{
 "cells": [
  {
   "cell_type": "code",
   "execution_count": 1,
   "metadata": {
    "collapsed": true
   },
   "outputs": [],
   "source": [
    "import pandas as pd\n",
    "import matplotlib.pyplot as plt\n",
    "\n",
    "%matplotlib inline"
   ]
  },
  {
   "cell_type": "code",
   "execution_count": 2,
   "metadata": {
    "collapsed": true
   },
   "outputs": [],
   "source": [
    "train_df = pd.read_csv(\"train.csv\")"
   ]
  },
  {
   "cell_type": "code",
   "execution_count": 3,
   "metadata": {
    "collapsed": false,
    "scrolled": true
   },
   "outputs": [
    {
     "data": {
      "text/plain": [
       "<matplotlib.axes._subplots.AxesSubplot at 0x1be487a8e48>"
      ]
     },
     "execution_count": 3,
     "metadata": {},
     "output_type": "execute_result"
    },
    {
     "data": {
      "image/png": "[encoded data removed]",
      "text/plain": [
       "<matplotlib.figure.Figure at 0x1be487a8630>"
      ]
     },
     "metadata": {},
     "output_type": "display_data"
    }
   ],
   "source": [
    "train_df.Age.dropna().plot(kind='hist')"
   ]
  },
  {
   "cell_type": "markdown",
   "metadata": {},
   "source": [
    "___"
   ]
  },
  {
   "cell_type": "code",
   "execution_count": 1,
   "metadata": {
    "collapsed": true
   },
   "outputs": [],
   "source": [
    "import numpy as np"
   ]
  },
  {
   "cell_type": "code",
   "execution_count": 10,
   "metadata": {
    "collapsed": false
   },
   "outputs": [],
   "source": [
    "class QuickSort:\n",
    "    def sort(self, a):\n",
    "        np.random.shuffle(a)\n",
    "        self.sort_rec(a, 0, len(a) - 1)\n",
    "\n",
    "    def sort_rec(self, a, lo, hi):\n",
    "            if hi <= lo:\n",
    "                return\n",
    "            j = self.partition(a, lo, hi)\n",
    "            self.sort_rec(a, lo, j - 1)\n",
    "            self.sort_rec(a, j + 1 , hi)\n",
    "\n",
    "\n",
    "    def partition(self, a, lo: int, hi: int):\n",
    "        i = lo\n",
    "        j = hi + 1\n",
    "        part_el = a[lo]\n",
    "        while True:\n",
    "            i += 1\n",
    "            while a[i] < part_el:\n",
    "                if i == hi:\n",
    "                    break\n",
    "                i += 1\n",
    "            j -= 1\n",
    "            while part_el < a[j]:\n",
    "                if j == lo:\n",
    "                    break\n",
    "                j -= 1\n",
    "            if i >= j:\n",
    "                break\n",
    "            a[i], a[j] = a[j], a[i]\n",
    "        a[lo], a[j] = a[j], a[lo]\n",
    "        return j"
   ]
  },
  {
   "cell_type": "code",
   "execution_count": 19,
   "metadata": {
    "collapsed": false,
    "scrolled": false
   },
   "outputs": [
    {
     "data": {
      "text/plain": [
       "array([95, 27, 17, 48, 34, 39, 19, 51, 80, 57])"
      ]
     },
     "execution_count": 19,
     "metadata": {},
     "output_type": "execute_result"
    }
   ],
   "source": [
    "array = np.random.randint(1, 100, 10)\n",
    "np.random.shuffle(array)\n",
    "array"
   ]
  },
  {
   "cell_type": "code",
   "execution_count": 20,
   "metadata": {
    "collapsed": false
   },
   "outputs": [
    {
     "data": {
      "text/plain": [
       "array([17, 19, 27, 34, 39, 48, 51, 57, 80, 95])"
      ]
     },
     "execution_count": 20,
     "metadata": {},
     "output_type": "execute_result"
    }
   ],
   "source": [
    "new_sort = QuickSort()\n",
    "new_sort.sort(array)\n",
    "array"
   ]
  }
 ],
 "metadata": {
  "kernelspec": {
   "display_name": "Python 3",
   "language": "python",
   "name": "python3"
  },
  "language_info": {
   "codemirror_mode": {
    "name": "ipython",
    "version": 3
   },
   "file_extension": ".py",
   "mimetype": "text/x-python",
   "name": "python",
   "nbconvert_exporter": "python",
   "pygments_lexer": "ipython3",
   "version": "3.6.0"
  }
 },
 "nbformat": 4,
 "nbformat_minor": 2
}
